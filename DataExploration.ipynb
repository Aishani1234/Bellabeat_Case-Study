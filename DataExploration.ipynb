{
  "nbformat": 4,
  "nbformat_minor": 0,
  "metadata": {
    "colab": {
      "provenance": [],
      "authorship_tag": "ABX9TyNmvCfEcwW7pQyb8TkjSvX/",
      "include_colab_link": true
    },
    "kernelspec": {
      "name": "python3",
      "display_name": "Python 3"
    },
    "language_info": {
      "name": "python"
    }
  },
  "cells": [
    {
      "cell_type": "markdown",
      "metadata": {
        "id": "view-in-github",
        "colab_type": "text"
      },
      "source": [
        "<a href=\"https://colab.research.google.com/github/Aishani1234/Bellabeat_Case-Study/blob/main/DataExploration.ipynb\" target=\"_parent\"><img src=\"https://colab.research.google.com/assets/colab-badge.svg\" alt=\"Open In Colab\"/></a>"
      ]
    },
    {
      "cell_type": "code",
      "execution_count": 1,
      "metadata": {
        "colab": {
          "base_uri": "https://localhost:8080/"
        },
        "id": "ZXAPrwiu_DC_",
        "outputId": "a43e947a-20ac-4de1-bf1e-67d0589deede"
      },
      "outputs": [
        {
          "output_type": "stream",
          "name": "stdout",
          "text": [
            "Mounted at /content/drive\n"
          ]
        }
      ],
      "source": [
        "from google.colab import drive\n",
        "drive.mount('/content/drive')"
      ]
    },
    {
      "cell_type": "code",
      "source": [
        "#Importing package\n",
        "import pandas as pd\n",
        "import numpy as np\n",
        "import matplotlib.pyplot as plt\n",
        "%matplotlib inline\n",
        "import seaborn as sns"
      ],
      "metadata": {
        "id": "Cgvv8ZTn_YHI"
      },
      "execution_count": 2,
      "outputs": []
    },
    {
      "cell_type": "code",
      "source": [
        "#Importing dataset\n",
        "df=pd.read_csv('/content/drive/MyDrive/Bellabeat Capstone Project/heartrate_seconds_merged.csv')"
      ],
      "metadata": {
        "id": "kAfwj2gM_ePK"
      },
      "execution_count": 3,
      "outputs": []
    },
    {
      "cell_type": "code",
      "source": [
        "# to find the total number of rows and columns in the dataset\n",
        "df.shape"
      ],
      "metadata": {
        "colab": {
          "base_uri": "https://localhost:8080/"
        },
        "id": "AOwM7k1xAem-",
        "outputId": "4d97443c-5e28-476f-b0aa-008716fd585a"
      },
      "execution_count": 4,
      "outputs": [
        {
          "output_type": "execute_result",
          "data": {
            "text/plain": [
              "(2483658, 3)"
            ]
          },
          "metadata": {},
          "execution_count": 4
        }
      ]
    },
    {
      "cell_type": "code",
      "source": [
        "# to find data types of columns from the given data\n",
        "df.info()"
      ],
      "metadata": {
        "colab": {
          "base_uri": "https://localhost:8080/"
        },
        "id": "qsOlaN_-Am8P",
        "outputId": "c3fb4e78-3e39-442f-f415-3461d419f3fd"
      },
      "execution_count": 5,
      "outputs": [
        {
          "output_type": "stream",
          "name": "stdout",
          "text": [
            "<class 'pandas.core.frame.DataFrame'>\n",
            "RangeIndex: 2483658 entries, 0 to 2483657\n",
            "Data columns (total 3 columns):\n",
            " #   Column  Dtype \n",
            "---  ------  ----- \n",
            " 0   Id      int64 \n",
            " 1   Time    object\n",
            " 2   Value   int64 \n",
            "dtypes: int64(2), object(1)\n",
            "memory usage: 56.8+ MB\n"
          ]
        }
      ]
    },
    {
      "cell_type": "code",
      "source": [
        "# to find the unique IDs\n",
        "df['Id'].nunique()"
      ],
      "metadata": {
        "colab": {
          "base_uri": "https://localhost:8080/"
        },
        "id": "6xR8GePrBHqF",
        "outputId": "01a90ba7-bccf-483d-9aa0-e2e59e9154b3"
      },
      "execution_count": 7,
      "outputs": [
        {
          "output_type": "execute_result",
          "data": {
            "text/plain": [
              "14"
            ]
          },
          "metadata": {},
          "execution_count": 7
        }
      ]
    },
    {
      "cell_type": "code",
      "source": [
        "#to find list of distinct Ids\n",
        "list(df['Id'].unique())"
      ],
      "metadata": {
        "colab": {
          "base_uri": "https://localhost:8080/"
        },
        "id": "d9_cwXzHuUDi",
        "outputId": "a25908af-bc74-4da4-a2e8-d597beecf6fa"
      },
      "execution_count": 8,
      "outputs": [
        {
          "output_type": "execute_result",
          "data": {
            "text/plain": [
              "[2022484408,\n",
              " 2026352035,\n",
              " 2347167796,\n",
              " 4020332650,\n",
              " 4388161847,\n",
              " 4558609924,\n",
              " 5553957443,\n",
              " 5577150313,\n",
              " 6117666160,\n",
              " 6775888955,\n",
              " 6962181067,\n",
              " 7007744171,\n",
              " 8792009665,\n",
              " 8877689391]"
            ]
          },
          "metadata": {},
          "execution_count": 8
        }
      ]
    }
  ]
}